{
  "nbformat": 4,
  "nbformat_minor": 0,
  "metadata": {
    "colab": {
      "name": "09_Orthogonality.ipynb",
      "provenance": [],
      "collapsed_sections": []
    },
    "kernelspec": {
      "name": "python3",
      "display_name": "Python 3"
    },
    "language_info": {
      "name": "python"
    }
  },
  "cells": [
    {
      "cell_type": "markdown",
      "metadata": {
        "id": "e2hYA6J-5Fh5"
      },
      "source": [
        "Orthogonality : 직교성\n",
        "\n",
        "* 직교벡터, 정규직교벡터, 직교행렬\n",
        "* 그람 슈미트 과정 (Gram-Schmidt process)\n",
        "* QR 분해\n"
      ]
    },
    {
      "cell_type": "code",
      "metadata": {
        "id": "tqaZf_Zx5lsp"
      },
      "source": [
        "import numpy as np\n",
        "\n",
        "def mat_print(msg, a):\n",
        "    print('---',msg,'---')\n",
        "    (n,m) = a.shape\n",
        "    for i in range(n):\n",
        "        line = ''\n",
        "        for j in range(m):\n",
        "            line += \"{0:.2f}\".format(a[i][j]) + '\\t'\n",
        "        print(line)\n",
        "    print(\"\")\n"
      ],
      "execution_count": null,
      "outputs": []
    },
    {
      "cell_type": "code",
      "metadata": {
        "id": "QaZrln6K4yB5"
      },
      "source": [
        "#Gram-Schmidt 과정\n",
        "\n",
        "def gram_schmidt(a):\n",
        "    basis = []\n",
        "    for v in a.T:\n",
        "        w = v - sum(np.dot(v,b)*b for b in basis)\n",
        "        if (np.abs(w) > 1e-10).any():\n",
        "            basis.append(w/np.linalg.norm(w))\n",
        "    return np.array(basis).T"
      ],
      "execution_count": null,
      "outputs": []
    },
    {
      "cell_type": "code",
      "metadata": {
        "colab": {
          "base_uri": "https://localhost:8080/"
        },
        "id": "_2dSraDQ6dro",
        "outputId": "f3889848-30b9-4ffc-f8ae-9eb533b6a744"
      },
      "source": [
        "a = np.array([[3,1],[2,2]])\n",
        "mat_print(\"열벡터\", a)\n",
        "mat_print(\"그람-슈미트\", gram_schmidt(a))"
      ],
      "execution_count": null,
      "outputs": [
        {
          "output_type": "stream",
          "text": [
            "--- 열벡터 ---\n",
            "3.00\t1.00\t\n",
            "2.00\t2.00\t\n",
            "\n",
            "--- 그람-슈미트 ---\n",
            "0.83\t-0.55\t\n",
            "0.55\t0.83\t\n",
            "\n"
          ],
          "name": "stdout"
        }
      ]
    },
    {
      "cell_type": "code",
      "metadata": {
        "colab": {
          "base_uri": "https://localhost:8080/"
        },
        "id": "YEmYqSJS6-C1",
        "outputId": "837f7385-5b15-4482-8de5-1fa8b140877c"
      },
      "source": [
        "b = np.array([[1,1,0],[1,3,1],[2,-1,1]])\n",
        "mat_print('b',b)\n",
        "mat_print('그람-슈미트',gram_schmidt(b))"
      ],
      "execution_count": null,
      "outputs": [
        {
          "output_type": "stream",
          "text": [
            "--- b ---\n",
            "1.00\t1.00\t0.00\t\n",
            "1.00\t3.00\t1.00\t\n",
            "2.00\t-1.00\t1.00\t\n",
            "\n",
            "--- 그람-슈미트 ---\n",
            "0.41\t0.21\t-0.89\t\n",
            "0.41\t0.83\t0.38\t\n",
            "0.82\t-0.52\t0.25\t\n",
            "\n"
          ],
          "name": "stdout"
        }
      ]
    },
    {
      "cell_type": "code",
      "metadata": {
        "colab": {
          "base_uri": "https://localhost:8080/"
        },
        "id": "wJH_47ub7PLB",
        "outputId": "1f703c36-4a38-4dd2-f823-b910d14eb726"
      },
      "source": [
        "b[1]\n",
        "np.linalg.norm(gram_schmidt(b)[1])"
      ],
      "execution_count": null,
      "outputs": [
        {
          "output_type": "execute_result",
          "data": {
            "text/plain": [
              "0.9999999999999999"
            ]
          },
          "metadata": {
            "tags": []
          },
          "execution_count": 8
        }
      ]
    },
    {
      "cell_type": "code",
      "metadata": {
        "colab": {
          "base_uri": "https://localhost:8080/"
        },
        "id": "qGYyOU477fTR",
        "outputId": "459f4049-7e96-4fad-952b-e50df2566320"
      },
      "source": [
        "c = np.array([[1,1,1],[2,2,0],[3,0,0],[0,0,1]])\n",
        "mat_print('c',c)\n",
        "mat_print('그람-슈미트',gram_schmidt(c))"
      ],
      "execution_count": null,
      "outputs": [
        {
          "output_type": "stream",
          "text": [
            "--- c ---\n",
            "1.00\t1.00\t1.00\t\n",
            "2.00\t2.00\t0.00\t\n",
            "3.00\t0.00\t0.00\t\n",
            "0.00\t0.00\t1.00\t\n",
            "\n",
            "--- 그람-슈미트 ---\n",
            "0.27\t0.36\t0.60\t\n",
            "0.53\t0.72\t-0.30\t\n",
            "0.80\t-0.60\t-0.00\t\n",
            "0.00\t0.00\t0.75\t\n",
            "\n"
          ],
          "name": "stdout"
        }
      ]
    },
    {
      "cell_type": "code",
      "metadata": {
        "colab": {
          "base_uri": "https://localhost:8080/"
        },
        "id": "97qjbmA8741f",
        "outputId": "22d4ed7f-61ae-47c4-977d-59fa1533fe71"
      },
      "source": [
        "#qr 분해\n",
        "q, r = np.linalg.qr(c)\n",
        "\n",
        "mat_print('c',c)\n",
        "mat_print('q',q)\n",
        "mat_print('r',r)\n",
        "mat_print('q * r', np.matmul(q,r))"
      ],
      "execution_count": null,
      "outputs": [
        {
          "output_type": "stream",
          "text": [
            "--- c ---\n",
            "1.00\t1.00\t1.00\t\n",
            "2.00\t2.00\t0.00\t\n",
            "3.00\t0.00\t0.00\t\n",
            "0.00\t0.00\t1.00\t\n",
            "\n",
            "--- q ---\n",
            "-0.27\t-0.36\t0.60\t\n",
            "-0.53\t-0.72\t-0.30\t\n",
            "-0.80\t0.60\t0.00\t\n",
            "-0.00\t-0.00\t0.75\t\n",
            "\n",
            "--- r ---\n",
            "-3.74\t-1.34\t-0.27\t\n",
            "0.00\t-1.79\t-0.36\t\n",
            "0.00\t0.00\t1.34\t\n",
            "\n",
            "--- q * r ---\n",
            "1.00\t1.00\t1.00\t\n",
            "2.00\t2.00\t-0.00\t\n",
            "3.00\t-0.00\t0.00\t\n",
            "0.00\t0.00\t1.00\t\n",
            "\n"
          ],
          "name": "stdout"
        }
      ]
    },
    {
      "cell_type": "markdown",
      "metadata": {
        "id": "pFVRsjVY8Mzc"
      },
      "source": [
        "#### 최적근사해 구하기 (무어-펜로즈, qr분해 활용)"
      ]
    },
    {
      "cell_type": "code",
      "metadata": {
        "colab": {
          "base_uri": "https://localhost:8080/"
        },
        "id": "e1XWy-KE8mCL",
        "outputId": "5b4196ce-dba4-49f2-9ff4-9fcf20f687c7"
      },
      "source": [
        "A = np.array([[1,1],[2,1],[3,1],[4,1]])\n",
        "b = np.array([[3.5],[4.3],[7.2],[8.0]])\n",
        "#무어-펜로즈 {(A^(T)A)^(-1)A^T}b\n",
        "x = np.matmul(np.matmul(np.linalg.inv(np.matmul(A.T, A)), A.T),b)\n",
        "\n",
        "mat_print('Ax=b, A',A)\n",
        "mat_print('Ax=b, b',b)\n",
        "mat_print('Ax=b, x',x)"
      ],
      "execution_count": null,
      "outputs": [
        {
          "output_type": "stream",
          "text": [
            "--- Ax=b, A ---\n",
            "1.00\t1.00\t\n",
            "2.00\t1.00\t\n",
            "3.00\t1.00\t\n",
            "4.00\t1.00\t\n",
            "\n",
            "--- Ax=b, b ---\n",
            "3.50\t\n",
            "4.30\t\n",
            "7.20\t\n",
            "8.00\t\n",
            "\n",
            "--- Ax=b, x ---\n",
            "1.64\t\n",
            "1.65\t\n",
            "\n"
          ],
          "name": "stdout"
        }
      ]
    },
    {
      "cell_type": "code",
      "metadata": {
        "colab": {
          "base_uri": "https://localhost:8080/"
        },
        "id": "L-cYfdJw_wOT",
        "outputId": "3a83d99d-7e70-46d9-b028-6a1e16482644"
      },
      "source": [
        "C = np.array([[1,3,5],[1,1,0],[1,1,2],[1,3,3]])\n",
        "d = np.array([[3],[5],[7],[-3]])\n",
        "Q,R = np.linalg.qr(C)\n",
        "x1 = np.matmul(np.matmul(np.linalg.inv(R),Q.T),b)\n",
        "\n",
        "mat_print('Cx1=d, C',C)\n",
        "mat_print('Cx1=d, d',d)\n",
        "mat_print('Cx1=d, x1',x1)"
      ],
      "execution_count": null,
      "outputs": [
        {
          "output_type": "stream",
          "text": [
            "--- Cx1=d, C ---\n",
            "1.00\t3.00\t5.00\t\n",
            "1.00\t1.00\t0.00\t\n",
            "1.00\t1.00\t2.00\t\n",
            "1.00\t3.00\t3.00\t\n",
            "\n",
            "--- Cx1=d, d ---\n",
            "3.00\t\n",
            "5.00\t\n",
            "7.00\t\n",
            "-3.00\t\n",
            "\n",
            "--- Cx1=d, x1 ---\n",
            "5.55\t\n",
            "0.60\t\n",
            "-0.40\t\n",
            "\n"
          ],
          "name": "stdout"
        }
      ]
    },
    {
      "cell_type": "code",
      "metadata": {
        "id": "00p_SYfTAiEu"
      },
      "source": [
        ""
      ],
      "execution_count": null,
      "outputs": []
    }
  ]
}